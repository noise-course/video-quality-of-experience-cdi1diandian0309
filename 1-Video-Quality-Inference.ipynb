{
 "cells": [
  {
   "cell_type": "markdown",
   "metadata": {
    "colab_type": "text",
    "id": "zbGBJegvBuXV"
   },
   "source": [
    "# Assignment: Video Quality Inference\n",
    "\n",
    "To this point in the class, you have learned various techniques for leading and analyzing packet captures of various types, generating features from those packet captures, and training and evaluating models using those features.\n",
    "\n",
    "In this assignment, you will put all of this together, using a network traffic trace to train a model to automatically infer video quality of experience from a labeled traffic trace.\n",
    "\n",
    "## Part 1: Warmup\n",
    "\n",
    "The first part of this assignment builds directly on the hands-on activities but extends them slightly.\n",
    "\n",
    "### Extract Features from the Network Traffic\n",
    "\n",
    "Load the `netflix.pcap` file, which is a packet trace that includes network traffic. \n",
    "\n",
    "Click [here](https://github.com/noise-lab/ml-systems/blob/main/docs/notebooks/data/netflix.pcap) to download `netflix.pcap`.\n"
   ]
  },
  {
   "cell_type": "code",
   "execution_count": 1,
   "metadata": {},
   "outputs": [
    {
     "name": "stderr",
     "output_type": "stream",
     "text": [
      "WARNING: No IPv4 address found on anpi1 !\n",
      "WARNING: No IPv4 address found on anpi0 !\n",
      "WARNING: more No IPv4 address found on en3 !\n"
     ]
    },
    {
     "name": "stdout",
     "output_type": "stream",
     "text": [
      "<netflix.pcap: TCP:141143 UDP:232 ICMP:16 Other:80>\n"
     ]
    }
   ],
   "source": [
    "import pandas as pd\n",
    "import numpy as np\n",
    "from scapy.all import *\n",
    "\n",
    "netflix_packets = rdpcap('netflix.pcap')\n",
    "\n",
    "print(netflix_packets)"
   ]
  },
  {
   "cell_type": "code",
   "execution_count": 6,
   "metadata": {},
   "outputs": [
    {
     "name": "stdout",
     "output_type": "stream",
     "text": [
      "Ether / IP / UDP / DNS Qry \"b'fonts.gstatic.com.'\" \n",
      "[<class 'scapy.layers.l2.Ether'>, <class 'scapy.layers.inet.IP'>, <class 'scapy.layers.inet.UDP'>, <class 'scapy.layers.dns.DNS'>]\n",
      "Ether / IP / UDP / DNS Qry \"b'fonts.gstatic.com.'\" \n",
      "[<class 'scapy.layers.l2.Ether'>, <class 'scapy.layers.inet.IP'>, <class 'scapy.layers.inet.UDP'>, <class 'scapy.layers.dns.DNS'>]\n",
      "Ether / IP / UDP / DNS Qry \"b'googleads.g.doubleclick.net.'\" \n",
      "[<class 'scapy.layers.l2.Ether'>, <class 'scapy.layers.inet.IP'>, <class 'scapy.layers.inet.UDP'>, <class 'scapy.layers.dns.DNS'>]\n",
      "Ether / IP / UDP / DNS Qry \"b'googleads.g.doubleclick.net.'\" \n",
      "[<class 'scapy.layers.l2.Ether'>, <class 'scapy.layers.inet.IP'>, <class 'scapy.layers.inet.UDP'>, <class 'scapy.layers.dns.DNS'>]\n",
      "Ether / IP / UDP / DNS Qry \"b'ytimg.l.google.com.'\" \n",
      "[<class 'scapy.layers.l2.Ether'>, <class 'scapy.layers.inet.IP'>, <class 'scapy.layers.inet.UDP'>, <class 'scapy.layers.dns.DNS'>]\n",
      "Ether / IP / UDP / DNS Qry \"b'r4---sn-gxo5uxg-jqbe.googlevideo.com.'\" \n",
      "[<class 'scapy.layers.l2.Ether'>, <class 'scapy.layers.inet.IP'>, <class 'scapy.layers.inet.UDP'>, <class 'scapy.layers.dns.DNS'>]\n",
      "Ether / IP / UDP / DNS Qry \"b'ssl.gstatic.com.'\" \n",
      "[<class 'scapy.layers.l2.Ether'>, <class 'scapy.layers.inet.IP'>, <class 'scapy.layers.inet.UDP'>, <class 'scapy.layers.dns.DNS'>]\n",
      "Ether / IP / UDP / DNS Qry \"b'www.google.com.'\" \n",
      "[<class 'scapy.layers.l2.Ether'>, <class 'scapy.layers.inet.IP'>, <class 'scapy.layers.inet.UDP'>, <class 'scapy.layers.dns.DNS'>]\n",
      "Ether / IP / UDP / DNS Ans \"216.58.213.162\" \n",
      "[<class 'scapy.layers.l2.Ether'>, <class 'scapy.layers.inet.IP'>, <class 'scapy.layers.inet.UDP'>, <class 'scapy.layers.dns.DNS'>]\n",
      "Ether / IP / UDP / DNS Qry \"b'www.gstatic.com.'\" \n",
      "[<class 'scapy.layers.l2.Ether'>, <class 'scapy.layers.inet.IP'>, <class 'scapy.layers.inet.UDP'>, <class 'scapy.layers.dns.DNS'>]\n"
     ]
    }
   ],
   "source": [
    "for i in range(10):\n",
    "    print(netflix_packets[i].summary())\n",
    "    print(netflix_packets[i].layers())\n",
    "\n",
    "#layers: Ether, IP, UDP, DNS Qry"
   ]
  },
  {
   "cell_type": "markdown",
   "metadata": {
    "colab_type": "text",
    "id": "TOPPsKpYB6PS"
   },
   "source": [
    "### Identifying the Service Type\n",
    "\n",
    "Use the DNS traffic to filter the packet trace for Netflix traffic."
   ]
  },
  {
   "cell_type": "code",
   "execution_count": null,
   "metadata": {},
   "outputs": [
    {
     "name": "stdout",
     "output_type": "stream",
     "text": [
      "yes\n",
      "Ether / IP / UDP / DNS Ans \"216.58.213.162\" \n",
      "['Ether / IP / UDP / DNS Ans ', '216.58.213.162', ' ']\n",
      "216.58.213.162\n",
      "Looking for DNS responses...\n",
      "Total DNS responses found: 62\n",
      "  - Ether / IP / UDP / DNS Ans \"216.58.213.162\" \n",
      "  - Ether / IP / UDP / DNS Ans \"2a00:1450:4007:805::2003\" \n",
      "  - Ether / IP / UDP / DNS Ans \"172.217.18.195\" \n",
      "\n",
      "Checking for Netflix DNS responses...\n"
     ]
    }
   ],
   "source": [
    "test = str(netflix_packets[1])\n",
    "#if netflix_packets[1].contains('DNS Qry'):\n",
    "if 'DNS' in test:\n",
    "    print(\"yes\")\n",
    "\n",
    "print(netflix_packets[8].summary())\n",
    "#print(netflix_packets[8].summary().split(\"'\"))\n",
    "print(netflix_packets[8].summary().split('\"'))\n",
    "print((netflix_packets[8].summary()).split('\"')[1])"
   ]
  },
  {
   "cell_type": "code",
   "execution_count": 2,
   "metadata": {},
   "outputs": [
    {
     "name": "stdout",
     "output_type": "stream",
     "text": [
      "[]\n"
     ]
    }
   ],
   "source": [
    "netflix_domains = ['netflix.com', 'netflix.net', 'nflxso.net', 'nflxvideo.net', 'nflxext.com', 'nflximg.com', 'nflximg.net']\n",
    "#source: https://www.netify.ai/resources/applications/netflix\n",
    "\n",
    "netflix_traffic = []\n",
    "#do domains in a bit\n",
    "\n",
    "netflix_traffic_ips = []\n",
    "\n",
    "for packet in netflix_packets:\n",
    "    #packet_string_form = str(packet)\n",
    "    packet_summary = packet.summary()\n",
    "\n",
    "    #if 'DNS Qry' in packet_string_form:\n",
    "    #if 'DNS' in packet_string_form:\n",
    "    if 'DNS' in packet_summary:\n",
    "        #packet_summary = packet.summary()\n",
    "        #netflix_traffic.append(packet_summary)\n",
    "\n",
    "        for domain in netflix_domains:\n",
    "            #if ('netflix.com' in packet_summary) | ('netflix.net' in packet_summary) | ('nflxvideo.net' in packet_summary):\n",
    "            if domain in packet_summary:\n",
    "                netflix_traffic.append(packet_summary)\n",
    "\n",
    "                if 'DNS Ans' in packet_summary:\n",
    "                    #ip_addr = packet_summary.split(\"'\")[1]\n",
    "                    parts = packet_summary.split('\"')\n",
    "\n",
    "                    if len(parts) > 1:\n",
    "                        ip_addr = parts[1]\n",
    "\n",
    "                        if ip_addr not in netflix_traffic_ips:\n",
    "                            netflix_traffic_ips.append(ip_addr)\n",
    "\n",
    "#print(netflix_traffic)\n",
    "print(netflix_traffic_ips) #um??"
   ]
  },
  {
   "cell_type": "markdown",
   "metadata": {
    "colab_type": "text",
    "id": "0qFV6q2OCCsK"
   },
   "source": [
    "### Generate Statistics\n",
    "\n",
    "Generate statistics and features for the Netflix traffic flows. Use the `netml` library or any other technique that you choose to generate a set of features that you think would be good features for your model. "
   ]
  },
  {
   "cell_type": "code",
   "execution_count": 3,
   "metadata": {},
   "outputs": [
    {
     "name": "stdout",
     "output_type": "stream",
     "text": [
      "getting pcap...\n",
      "\n",
      "pcap2pandas...\n",
      "\n",
      "pcap2flows...\n",
      "\n",
      "pcap features...\n",
      "\n"
     ]
    }
   ],
   "source": [
    "from netml.pparser.parser import PCAP\n",
    "from netml.utils.tool import dump_data, load_data\n",
    "\n",
    "print(\"getting pcap...\\n\")\n",
    "netflix_pcap = PCAP('netflix.pcap')\n",
    "\n",
    "print(\"pcap2pandas...\\n\")\n",
    "netflix_pcap.pcap2pandas()\n",
    "\n",
    "print(\"pcap2flows...\\n\")\n",
    "netflix_pcap.pcap2flows()\n",
    "\n",
    "print(\"pcap features...\\n\")\n",
    "netflix_pcap.flow2features('IAT', fft = False, header = False)"
   ]
  },
  {
   "cell_type": "code",
   "execution_count": 4,
   "metadata": {},
   "outputs": [
    {
     "name": "stdout",
     "output_type": "stream",
     "text": [
      "getting features\n",
      "\n",
      "(184, 359)\n",
      "184\n"
     ]
    }
   ],
   "source": [
    "#um features?\n",
    "print(\"getting features\\n\")\n",
    "netflix_features = netflix_pcap.features\n",
    "print(netflix_features.shape)\n",
    "print(len(netflix_pcap.flows))"
   ]
  },
  {
   "cell_type": "code",
   "execution_count": 5,
   "metadata": {},
   "outputs": [
    {
     "name": "stdout",
     "output_type": "stream",
     "text": [
      "feature stats:\n",
      "\n",
      "min: [0.01274514 0.         0.         0.         0.         0.\n",
      " 0.         0.         0.         0.         0.         0.\n",
      " 0.         0.         0.         0.         0.         0.\n",
      " 0.         0.         0.         0.         0.         0.\n",
      " 0.         0.         0.         0.         0.         0.\n",
      " 0.         0.         0.         0.         0.         0.\n",
      " 0.         0.         0.         0.         0.         0.\n",
      " 0.         0.         0.         0.         0.         0.\n",
      " 0.         0.         0.         0.         0.         0.\n",
      " 0.         0.         0.         0.         0.         0.\n",
      " 0.         0.         0.         0.         0.         0.\n",
      " 0.         0.         0.         0.         0.         0.\n",
      " 0.         0.         0.         0.         0.         0.\n",
      " 0.         0.         0.         0.         0.         0.\n",
      " 0.         0.         0.         0.         0.         0.\n",
      " 0.         0.         0.         0.         0.         0.\n",
      " 0.         0.         0.         0.         0.         0.\n",
      " 0.         0.         0.         0.         0.         0.\n",
      " 0.         0.         0.         0.         0.         0.\n",
      " 0.         0.         0.         0.         0.         0.\n",
      " 0.         0.         0.         0.         0.         0.\n",
      " 0.         0.         0.         0.         0.         0.\n",
      " 0.         0.         0.         0.         0.         0.\n",
      " 0.         0.         0.         0.         0.         0.\n",
      " 0.         0.         0.         0.         0.         0.\n",
      " 0.         0.         0.         0.         0.         0.\n",
      " 0.         0.         0.         0.         0.         0.\n",
      " 0.         0.         0.         0.         0.         0.\n",
      " 0.         0.         0.         0.         0.         0.\n",
      " 0.         0.         0.         0.         0.         0.\n",
      " 0.         0.         0.         0.         0.         0.\n",
      " 0.         0.         0.         0.         0.         0.\n",
      " 0.         0.         0.         0.         0.         0.\n",
      " 0.         0.         0.         0.         0.         0.\n",
      " 0.         0.         0.         0.         0.         0.\n",
      " 0.         0.         0.         0.         0.         0.\n",
      " 0.         0.         0.         0.         0.         0.\n",
      " 0.         0.         0.         0.         0.         0.\n",
      " 0.         0.         0.         0.         0.         0.\n",
      " 0.         0.         0.         0.         0.         0.\n",
      " 0.         0.         0.         0.         0.         0.\n",
      " 0.         0.         0.         0.         0.         0.\n",
      " 0.         0.         0.         0.         0.         0.\n",
      " 0.         0.         0.         0.         0.         0.\n",
      " 0.         0.         0.         0.         0.         0.\n",
      " 0.         0.         0.         0.         0.         0.\n",
      " 0.         0.         0.         0.         0.         0.\n",
      " 0.         0.         0.         0.         0.         0.\n",
      " 0.         0.         0.         0.         0.         0.\n",
      " 0.         0.         0.         0.         0.         0.\n",
      " 0.         0.         0.         0.         0.         0.\n",
      " 0.         0.         0.         0.         0.         0.\n",
      " 0.         0.         0.         0.         0.         0.\n",
      " 0.         0.         0.         0.         0.         0.\n",
      " 0.         0.         0.         0.         0.         0.\n",
      " 0.         0.         0.         0.         0.         0.\n",
      " 0.         0.         0.         0.         0.         0.\n",
      " 0.         0.         0.         0.         0.         0.\n",
      " 0.         0.         0.         0.         0.         0.\n",
      " 0.         0.         0.         0.         0.        ]\n",
      "\n",
      "max: [9.72811630e+01 2.57357116e+02 2.54263998e+02 1.02196029e+02\n",
      " 9.80997698e+01 1.33735207e+02 9.70831079e+01 4.99101720e+01\n",
      " 9.78952620e+01 9.66578681e+01 9.78938279e+01 5.13842170e+01\n",
      " 5.01696951e+01 4.83409450e+01 5.02634141e+01 5.24776042e+01\n",
      " 5.03691449e+01 5.54448080e+01 5.20275350e+01 5.24303310e+01\n",
      " 5.00015881e+01 5.11906409e+01 5.36194201e+01 4.99970629e+01\n",
      " 5.11379130e+01 4.79985299e+01 4.99978950e+01 4.79273462e+01\n",
      " 4.98495610e+01 5.00002820e+01 2.01474404e+00 4.14464092e+00\n",
      " 3.36408961e+01 3.22763300e+00 6.96256995e+00 9.82795906e+00\n",
      " 3.35159922e+01 2.27987695e+00 7.40612030e-01 3.13276920e+01\n",
      " 1.43518806e+00 5.48481703e+00 4.16916919e+00 4.77900951e+01\n",
      " 1.92172599e+00 1.10570080e+01 7.10314989e-01 4.91150670e+01\n",
      " 3.75874488e+01 2.32067111e+01 1.02416801e+00 4.95186806e+00\n",
      " 3.17850749e+01 2.00167990e+00 1.10579259e+01 9.23388958e-01\n",
      " 3.69846559e+01 5.11399670e+01 1.41516211e+01 4.60489731e+01\n",
      " 5.32190940e+01 4.96805358e+01 4.80886781e+01 4.28256741e+01\n",
      " 4.91916959e+01 5.11656010e+01 1.42285409e+01 5.75388021e+01\n",
      " 5.53536930e+01 4.99314370e+01 4.80505559e+01 4.28103240e+01\n",
      " 1.36042905e+00 1.27541804e+00 5.24850490e+01 1.28065050e+01\n",
      " 2.88931608e+00 1.42133093e+00 8.58994007e-01 4.62060418e+01\n",
      " 1.02673800e+01 3.44877958e-01 2.67191815e+00 4.30175066e-01\n",
      " 6.20368004e+00 1.72669005e+00 3.04602003e+00 5.25882049e+01\n",
      " 1.28058851e+01 1.17266703e+00 2.04281092e+00 6.76898003e-01\n",
      " 1.51661873e-01 5.28101921e-01 4.79432340e+01 6.75628901e-01\n",
      " 1.15651584e+00 5.18361020e+00 7.94689655e-02 5.10642180e+01\n",
      " 1.37809949e+01 8.75056028e-01 3.63300085e-01 4.79118519e+01\n",
      " 6.75475121e-01 3.21504211e+00 6.55733109e-01 1.13913989e+01\n",
      " 3.94993067e-01 1.17447591e+00 9.97319937e-01 6.04501009e-01\n",
      " 4.72252131e-01 5.15923905e+00 2.60586095e+00 1.14786291e+00\n",
      " 4.63099349e+01 1.37680531e+01 1.81704998e-01 5.16112089e-01\n",
      " 1.02113700e+00 1.33090019e-01 1.85603404e+00 1.47300410e+00\n",
      " 1.13611901e+01 2.12070942e-01 4.83975661e+01 1.42034602e+00\n",
      " 3.18454981e-01 4.09685135e-01 1.33267879e-01 3.93518925e-01\n",
      " 1.88646007e+00 4.88289118e-01 2.03553915e-01 4.61793990e+01\n",
      " 1.38667381e+01 1.81677103e-01 5.28415840e+01 1.20036042e+01\n",
      " 3.25741100e+00 4.92602706e+00 2.35548019e-01 1.54197693e+00\n",
      " 6.29214716e+00 2.60065699e+00 6.13898993e-01 4.82522299e+01\n",
      " 4.54701900e-01 1.02206397e+00 3.08812118e+00 7.29256868e-01\n",
      " 3.51228900e+01 5.11601820e+01 1.10032520e+01 5.23274302e+00\n",
      " 3.89152908e+00 7.76412964e-01 1.17553949e-01 1.02560043e-01\n",
      " 1.22550011e-01 4.86513686e+00 1.17015791e+00 2.85905838e-01\n",
      " 9.50690985e-01 6.21922112e+00 2.12033033e-01 9.58413124e-01\n",
      " 1.12853289e+00 3.86813831e+01 6.05971813e-02 1.92878509e+00\n",
      " 4.98866441e+01 4.68617797e+00 8.27150822e-01 7.63925076e-01\n",
      " 4.79120018e+01 1.21198630e+01 1.89087105e+00 6.06989861e-02\n",
      " 1.75932813e+00 3.72120857e-01 2.12020159e-01 3.99416208e+00\n",
      " 2.31366873e-01 1.32719994e-01 2.02482605e+00 1.06866693e+00\n",
      " 1.95913601e+00 1.84463978e-01 4.82931259e+01 3.68658941e+01\n",
      " 1.53939009e-01 2.82232285e+00 1.74029016e+00 1.20356488e+00\n",
      " 6.08408451e-02 1.23950505e+00 1.86101794e+00 1.51030588e+00\n",
      " 5.74177749e+01 2.45320106e+00 6.05649948e-02 6.06570244e-02\n",
      " 1.36024380e+00 2.04876304e+00 1.61397600e+00 1.97728586e+00\n",
      " 3.66446972e-01 5.76327085e-01 7.88795948e-01 1.33255005e-01\n",
      " 2.24987483e+00 5.00891304e+00 6.31786823e-01 4.89606857e-01\n",
      " 1.79522991e-01 1.23957109e+00 1.86105800e+00 9.05470848e-02\n",
      " 6.60460210e+00 8.75730515e-02 6.98982954e-01 1.36023903e+00\n",
      " 2.04878807e+00 1.28872800e+00 3.52279186e-01 5.81708908e-01\n",
      " 1.43463206e+00 4.05258894e-01 2.13246107e-01 4.04855967e-01\n",
      " 6.04479313e-02 1.22721910e-01 2.43759155e-01 9.09380913e-02\n",
      " 8.11749935e-01 3.78042793e+00 9.21111107e-02 2.24623919e-01\n",
      " 4.19449091e-01 5.88629007e-01 8.51174116e-01 8.19103956e-01\n",
      " 4.09708023e-01 1.02320600e+00 1.80846214e-01 1.79313898e-01\n",
      " 1.96210930e+01 1.79355145e-01 1.79280996e-01 1.20150805e-01\n",
      " 1.30366087e-01 2.85634041e-01 8.34649086e+00 9.13391113e-02\n",
      " 6.30497932e-02 6.36851788e-02 6.21268749e-02 6.04150295e-02\n",
      " 9.46539879e-01 6.19850159e-02 6.14686966e-01 8.96934986e-01\n",
      " 4.30222034e-01 6.58794165e-01 8.22494984e-01 8.96551609e-02\n",
      " 6.32488728e-02 6.17239475e-02 3.55145216e-01 4.83296001e+01\n",
      " 1.10920420e+01 2.74430037e-01 2.84744287e+00 6.20188713e-02\n",
      " 7.53390789e-02 1.31845951e-01 4.72332001e-01 8.22508097e-01\n",
      " 2.00621843e-01 6.61611557e-02 6.18798733e-02 6.66079044e-01\n",
      " 6.31718636e-02 1.28314018e-01 3.85340500e+00 4.87638950e-01\n",
      " 7.34231949e-01 6.05480671e-02 1.54103041e-01 6.05640411e-02\n",
      " 6.19709492e-02 1.30930901e-01 1.78763604e+00 4.09443140e-01\n",
      " 1.23769045e-01 7.60660172e-02 1.97688818e-01 3.03234100e-01\n",
      " 3.47688913e-01 7.07621574e-02 1.96398449e+01 1.79515123e-01\n",
      " 1.79388046e-01 4.13600922e-01 6.05700016e-02 2.12610960e-01\n",
      " 1.79285049e-01 5.26548147e-01 1.40718317e+00 9.61815834e-01\n",
      " 3.03351879e-02 1.97882891e-01 6.17599487e-02 7.13119507e-02\n",
      " 6.11000061e-02 6.01201057e-02 6.05199337e-02 1.21145964e-01\n",
      " 1.20656013e-01 6.06060028e-02 6.06689453e-02 6.05089664e-02\n",
      " 6.05418682e-02 1.24984312e+00 7.18313932e-01 3.03528309e-02\n",
      " 3.03111076e-02 3.02882195e-02 1.04212999e-01 7.71088600e-02\n",
      " 1.79309130e-01 1.79423809e-01 2.25251293e+00 2.18735099e+00\n",
      " 1.79491997e-01 6.01543903e-01 1.79528952e-01 1.79356098e-01\n",
      " 1.79961920e-01 1.49379969e-01 1.97779894e-01 4.00258064e-01\n",
      " 3.02548409e-02 3.03590298e-02 3.03289890e-02 3.03609371e-02\n",
      " 3.24459076e-02 2.13480949e-01 5.15279770e-02 3.05709839e-02\n",
      " 1.22509003e-01 3.16159725e-02 3.02419662e-02 3.03039551e-02\n",
      " 4.29351330e-02 5.38058281e-02 1.32405043e-01]\n",
      "\n",
      "mean: [2.76116085e+00 3.31325395e+00 3.39241583e+00 1.62980379e+00\n",
      " 1.73408540e+00 2.49134991e+00 2.90825855e+00 1.75379942e+00\n",
      " 3.19968359e+00 1.48116759e+00 1.53550265e+00 1.88947319e+00\n",
      " 1.42417986e+00 1.03728422e+00 1.20760050e+00 9.89311792e-01\n",
      " 1.62371558e+00 1.76889948e+00 1.50905348e+00 1.28902412e+00\n",
      " 1.20681840e+00 9.45367120e-01 1.81714119e+00 1.32847197e+00\n",
      " 8.70458473e-01 9.43569685e-01 5.93517305e-01 6.41307568e-01\n",
      " 5.68384791e-01 6.91171851e-01 3.60450576e-02 4.14241475e-02\n",
      " 2.68691662e-01 3.33816772e-02 7.96951081e-02 8.76699414e-02\n",
      " 2.43663121e-01 1.70132803e-02 1.93738199e-02 2.03597893e-01\n",
      " 1.87047629e-02 5.41019582e-02 6.08168439e-02 3.15809337e-01\n",
      " 2.51663120e-02 8.89661234e-02 1.47885188e-02 2.80763039e-01\n",
      " 3.81232501e-01 2.09710212e-01 1.61459744e-02 6.25134927e-02\n",
      " 1.92192006e-01 2.37395530e-02 6.60516063e-02 1.19186873e-02\n",
      " 2.08266355e-01 5.61143188e-01 1.72944231e-01 2.59829000e-01\n",
      " 5.58912142e-01 3.50074453e-01 2.75185576e-01 2.55812855e-01\n",
      " 3.40684803e-01 3.37164480e-01 8.99438599e-02 5.97944902e-01\n",
      " 3.47718134e-01 5.32071089e-01 3.23707451e-01 2.53630912e-01\n",
      " 1.62885604e-02 1.64326870e-02 2.93624397e-01 8.59544303e-02\n",
      " 2.82773777e-02 1.55309439e-02 1.04129327e-02 2.56441273e-01\n",
      " 7.28112291e-02 6.04542312e-03 2.73883019e-02 9.97663840e-03\n",
      " 5.62653529e-02 1.61599556e-02 3.05557199e-02 2.97223314e-01\n",
      " 8.82974954e-02 9.60713495e-03 1.87588788e-02 7.12502132e-03\n",
      " 4.48165251e-03 7.54592859e-03 2.97582628e-01 1.08650288e-02\n",
      " 9.92300588e-03 3.08954495e-02 2.94560453e-03 3.16958703e-01\n",
      " 9.39237566e-02 1.35177763e-02 4.70817219e-03 2.68369642e-01\n",
      " 1.30960760e-02 2.76568441e-02 1.06390702e-02 6.45884198e-02\n",
      " 5.28086139e-03 1.17159926e-02 8.76631944e-03 8.76035898e-03\n",
      " 7.32969331e-03 4.37122117e-02 2.28207630e-02 1.00479191e-02\n",
      " 2.55241446e-01 8.56938518e-02 3.90597271e-03 5.07665199e-03\n",
      " 8.42921501e-03 2.65443195e-03 1.43180334e-02 1.05100611e-02\n",
      " 6.47493614e-02 3.00673169e-03 4.83328313e-01 1.08309570e-02\n",
      " 4.63805898e-03 6.04219411e-03 2.84432976e-03 4.81558364e-03\n",
      " 1.37950467e-02 5.26903116e-03 3.60283385e-03 2.55100690e-01\n",
      " 7.85110087e-02 3.58630911e-03 2.90477919e-01 9.00913270e-02\n",
      " 2.13476199e-02 4.73880029e-02 4.29607863e-03 1.56734314e-02\n",
      " 5.41358175e-02 1.60122021e-02 8.83715956e-03 2.68108764e-01\n",
      " 4.24045972e-03 1.07005679e-02 2.06201245e-02 5.89714750e-03\n",
      " 1.96673831e-01 2.86808018e-01 8.93498724e-02 3.35874182e-02\n",
      " 3.32015364e-02 8.94193934e-03 1.94594264e-03 2.15701435e-03\n",
      " 2.38594154e-03 2.92383821e-02 1.26684541e-02 3.60051057e-03\n",
      " 1.02154794e-02 3.57641383e-02 3.40781134e-03 7.10015323e-03\n",
      " 8.55748161e-03 2.13638416e-01 1.39595244e-03 1.24894990e-02\n",
      " 2.85935021e-01 4.29342221e-02 5.56453544e-03 6.22004141e-03\n",
      " 2.70214045e-01 7.15859869e-02 1.63932922e-02 2.04333793e-03\n",
      " 1.83294208e-02 3.93385732e-03 2.37544334e-03 3.20972697e-02\n",
      " 3.37169870e-03 2.50248157e-03 3.12785105e-02 1.27198696e-02\n",
      " 1.85638459e-02 3.30550904e-03 2.79672594e-01 2.64224098e-01\n",
      " 2.27092142e-03 1.75046934e-02 1.24741248e-02 9.38728711e-03\n",
      " 1.54962617e-03 8.59770697e-03 1.21729387e-02 1.09730415e-02\n",
      " 3.57810234e-01 3.09780499e-02 1.55656623e-03 1.97799180e-03\n",
      " 1.02440572e-02 1.67510315e-02 1.01805083e-02 1.65579682e-02\n",
      " 3.31702310e-03 4.47505453e-03 5.37424632e-03 1.75119742e-03\n",
      " 1.63712372e-02 5.11162048e-02 8.65713928e-03 4.92124454e-03\n",
      " 1.69202815e-03 1.25197263e-02 1.36850360e-02 1.55698605e-03\n",
      " 3.82064555e-02 1.87889389e-03 4.96127424e-03 9.11320163e-03\n",
      " 1.51770400e-02 8.78259280e-03 2.53253009e-03 4.91933201e-03\n",
      " 8.78424100e-03 3.24243178e-03 2.04431233e-03 3.94870794e-03\n",
      " 8.92115676e-04 2.15645329e-03 2.41646818e-03 1.71426068e-03\n",
      " 6.62003781e-03 2.18691243e-02 1.45619719e-03 2.69781636e-03\n",
      " 3.20012673e-03 4.39240233e-03 1.01272140e-02 5.72141487e-03\n",
      " 4.37465828e-03 8.44138083e-03 1.91652904e-03 2.43441048e-03\n",
      " 1.11693877e-01 2.37183597e-03 2.16198227e-03 1.48510026e-03\n",
      " 1.79036286e-03 2.60956132e-03 4.69505631e-02 1.72007732e-03\n",
      " 9.60321530e-04 1.00430717e-03 9.01762558e-04 8.93454189e-04\n",
      " 5.94275801e-03 9.70510037e-04 3.73443961e-03 7.65221534e-03\n",
      " 3.22461517e-03 4.94242622e-03 6.31888923e-03 1.29619759e-03\n",
      " 1.06756065e-03 1.09810803e-03 3.75489307e-03 2.63801058e-01\n",
      " 6.10654406e-02 2.76621528e-03 1.68688816e-02 9.60444627e-04\n",
      " 1.17959536e-03 1.43746449e-03 3.20837420e-03 5.13067712e-03\n",
      " 1.69543728e-03 9.27812379e-04 9.94818366e-04 4.64228184e-03\n",
      " 9.16644283e-04 1.83285449e-03 2.16684976e-02 3.37759308e-03\n",
      " 4.80995619e-03 9.73174106e-04 1.56231030e-03 1.13081414e-03\n",
      " 9.62918219e-04 1.84544014e-03 1.03704670e-02 3.25869736e-03\n",
      " 1.61498137e-03 1.12748535e-03 1.88671376e-03 2.20949235e-03\n",
      " 2.44606707e-03 1.08907663e-03 1.09112061e-01 1.60889392e-03\n",
      " 1.51332047e-03 2.64830823e-03 5.65754331e-04 2.06007776e-03\n",
      " 1.54993456e-03 3.31996446e-03 9.65072539e-03 5.46870283e-03\n",
      " 5.16616780e-04 2.10822017e-03 8.73852035e-04 8.73000725e-04\n",
      " 8.23777655e-04 9.19642656e-04 7.24311756e-04 1.30224228e-03\n",
      " 2.05129515e-03 7.34210014e-04 7.28166622e-04 1.16527599e-03\n",
      " 7.26873460e-04 8.48428192e-03 4.51104537e-03 4.01600547e-04\n",
      " 4.81784344e-04 6.69662071e-04 1.10919061e-03 1.02503015e-03\n",
      " 1.37045850e-03 1.54100423e-03 1.41937668e-02 1.32384482e-02\n",
      " 1.63108629e-03 4.24543671e-03 1.62507140e-03 1.71237536e-03\n",
      " 1.49654305e-03 1.69595299e-03 1.67092033e-03 2.76849322e-03\n",
      " 3.96030105e-04 4.00602818e-04 3.90709742e-04 4.91629476e-04\n",
      " 7.20450412e-04 1.39432498e-03 6.71678263e-04 4.09587570e-04\n",
      " 1.06132419e-03 6.21749007e-04 5.76930202e-04 4.21705453e-04\n",
      " 8.38847264e-04 1.05297825e-03 1.21326680e-03]\n",
      "\n",
      "std: [1.09173126e+01 2.01273860e+01 2.00728128e+01 9.04143286e+00\n",
      " 8.72067206e+00 1.25009409e+01 1.01396760e+01 5.64024988e+00\n",
      " 1.18497049e+01 8.32955007e+00 8.88044389e+00 7.39443377e+00\n",
      " 7.23994850e+00 6.19668430e+00 7.19261410e+00 6.42447101e+00\n",
      " 7.96857397e+00 8.79418252e+00 8.10798214e+00 7.17208083e+00\n",
      " 7.02465837e+00 6.12197094e+00 8.67173049e+00 7.13925569e+00\n",
      " 6.15985579e+00 5.93504542e+00 5.13275606e+00 5.02658109e+00\n",
      " 5.09082066e+00 5.32221764e+00 2.29250539e-01 3.47915644e-01\n",
      " 2.55130182e+00 2.71876188e-01 5.99160384e-01 7.50517100e-01\n",
      " 2.50253725e+00 1.68020880e-01 9.13546176e-02 2.32119660e+00\n",
      " 1.21562016e-01 4.38098497e-01 3.97681693e-01 3.53277893e+00\n",
      " 1.75164577e-01 8.64828991e-01 7.81541759e-02 3.61142197e+00\n",
      " 3.27521208e+00 1.95533043e+00 9.80155051e-02 4.30893714e-01\n",
      " 2.33808158e+00 1.68591191e-01 8.13608132e-01 7.73246292e-02\n",
      " 2.71896435e+00 5.17970179e+00 1.36780596e+00 3.38524667e+00\n",
      " 5.16331986e+00 3.72942396e+00 3.53592858e+00 3.14978118e+00\n",
      " 3.64796383e+00 3.79827215e+00 1.05168150e+00 5.47461233e+00\n",
      " 4.08097959e+00 4.96552899e+00 3.60368676e+00 3.14920048e+00\n",
      " 1.19939758e-01 1.11663523e-01 3.85839991e+00 9.46183614e-01\n",
      " 2.35324945e-01 1.17916008e-01 8.55603945e-02 3.39685942e+00\n",
      " 7.63876454e-01 3.42889359e-02 2.27538839e-01 5.45152865e-02\n",
      " 4.89798030e-01 1.31480808e-01 2.45798861e-01 3.86755643e+00\n",
      " 9.65294647e-01 8.77830624e-02 1.59825561e-01 5.32265656e-02\n",
      " 1.95637480e-02 4.57905214e-02 3.53453207e+00 6.61347483e-02\n",
      " 8.76374435e-02 3.81216534e-01 1.11656965e-02 3.77903723e+00\n",
      " 1.02294626e+00 9.28591659e-02 2.92232619e-02 3.52239407e+00\n",
      " 7.49877528e-02 2.46124711e-01 6.85207652e-02 8.37390297e-01\n",
      " 3.29030138e-02 9.71612921e-02 7.56630875e-02 6.16508269e-02\n",
      " 4.38686725e-02 4.05232285e-01 1.98349290e-01 8.85019818e-02\n",
      " 3.40450196e+00 1.01684147e+00 1.95410907e-02 3.96522834e-02\n",
      " 7.57609768e-02 1.23873688e-02 1.37817608e-01 1.08631148e-01\n",
      " 8.35131843e-01 1.74977446e-02 4.39658945e+00 1.05447231e-01\n",
      " 2.76401300e-02 3.66042338e-02 1.50910147e-02 3.12272813e-02\n",
      " 1.40463949e-01 3.79688701e-02 1.85160805e-02 3.39489326e+00\n",
      " 1.01933024e+00 1.80730506e-02 3.88472542e+00 9.29028811e-01\n",
      " 2.39920354e-01 3.97218444e-01 2.36729672e-02 1.24675503e-01\n",
      " 4.81866395e-01 1.91351714e-01 5.81858998e-02 3.54730997e+00\n",
      " 3.42128410e-02 8.38935234e-02 2.27699265e-01 5.42365692e-02\n",
      " 2.58208641e+00 3.76173629e+00 8.83107002e-01 3.85430255e-01\n",
      " 3.16528282e-01 6.51413694e-02 1.08390652e-02 1.10009046e-02\n",
      " 1.25311408e-02 3.57816763e-01 1.03381947e-01 2.35018427e-02\n",
      " 7.88154653e-02 4.57202366e-01 1.95572456e-02 7.08172284e-02\n",
      " 8.33782390e-02 2.84366182e+00 6.92982728e-03 1.42153631e-01\n",
      " 3.66867854e+00 3.94689506e-01 6.09690602e-02 5.71201333e-02\n",
      " 3.52250203e+00 8.91708426e-01 1.51081274e-01 8.72752027e-03\n",
      " 1.47772572e-01 2.90405717e-02 1.68368074e-02 3.15905379e-01\n",
      " 1.90541434e-02 1.24141695e-02 2.30868954e-01 9.40061018e-02\n",
      " 1.55751872e-01 1.81087325e-02 3.55150289e+00 2.82667335e+00\n",
      " 1.28118038e-02 2.07597279e-01 1.28814421e-01 9.04809945e-02\n",
      " 7.93927833e-03 9.13605816e-02 1.37286005e-01 1.12181602e-01\n",
      " 4.23997076e+00 2.33489240e-01 7.90686102e-03 9.36640112e-03\n",
      " 1.01446901e-01 1.57524123e-01 1.18808666e-01 1.50862110e-01\n",
      " 2.77672607e-02 4.29113167e-02 5.82620059e-02 1.14329398e-02\n",
      " 1.71201937e-01 4.24816826e-01 5.90887635e-02 3.87892727e-02\n",
      " 1.38305931e-02 9.94130685e-02 1.40857259e-01 9.06986716e-03\n",
      " 4.85756819e-01 9.82230029e-03 5.16989490e-02 1.00460813e-01\n",
      " 1.53218025e-01 9.54195333e-02 2.61489291e-02 4.39535846e-02\n",
      " 1.05527199e-01 3.03516060e-02 1.63685883e-02 3.21833263e-02\n",
      " 5.87233634e-03 1.37524420e-02 1.92418664e-02 9.38277745e-03\n",
      " 6.15033060e-02 2.77939458e-01 8.48359122e-03 1.86824818e-02\n",
      " 3.11939592e-02 4.37994119e-02 8.73659798e-02 6.05740108e-02\n",
      " 3.37317902e-02 7.88399263e-02 1.41389629e-02 1.57382624e-02\n",
      " 1.44307569e+00 1.68153510e-02 1.47468528e-02 9.95435275e-03\n",
      " 1.13107131e-02 2.18555661e-02 6.13672523e-01 9.53167247e-03\n",
      " 6.05240208e-03 6.15302696e-03 5.92631985e-03 5.83470492e-03\n",
      " 6.97491696e-02 5.92738137e-03 4.52720190e-02 7.17848139e-02\n",
      " 3.20029982e-02 4.93175888e-02 6.33417478e-02 7.88588911e-03\n",
      " 7.19442398e-03 6.18834194e-03 2.87889804e-02 3.55313163e+00\n",
      " 8.15451582e-01 2.11502399e-02 2.09507075e-01 5.98285111e-03\n",
      " 7.27897687e-03 1.10637385e-02 3.49115692e-02 6.05629984e-02\n",
      " 1.52102408e-02 6.19557781e-03 6.11174572e-03 4.93007489e-02\n",
      " 5.98905372e-03 1.25480905e-02 2.83301837e-01 3.62076990e-02\n",
      " 5.42104760e-02 5.95748757e-03 1.25524943e-02 6.13034498e-03\n",
      " 5.99555306e-03 1.21580219e-02 1.31442077e-01 3.08811684e-02\n",
      " 1.20892106e-02 7.07857608e-03 1.53821678e-02 2.25797963e-02\n",
      " 2.58090713e-02 6.78564833e-03 1.44390165e+00 1.37117084e-02\n",
      " 1.35974273e-02 3.05399596e-02 4.96072998e-03 1.80633966e-02\n",
      " 1.37365816e-02 3.88118073e-02 1.05805521e-01 7.07307249e-02\n",
      " 3.49267388e-03 1.69137197e-02 5.77142852e-03 6.21252234e-03\n",
      " 5.63064654e-03 5.69009343e-03 5.41648314e-03 1.01916526e-02\n",
      " 1.23488618e-02 5.42952216e-03 5.42693975e-03 7.13890725e-03\n",
      " 5.42744593e-03 9.31944756e-02 5.29192739e-02 3.14694420e-03\n",
      " 3.36800927e-03 3.99218363e-03 8.46980156e-03 6.70377708e-03\n",
      " 1.35103046e-02 1.36317802e-02 1.66210436e-01 1.61275893e-01\n",
      " 1.36841433e-02 4.50910660e-02 1.41091804e-02 1.49424877e-02\n",
      " 1.36172272e-02 1.41818289e-02 1.49706825e-02 2.97750201e-02\n",
      " 3.13332523e-03 3.14434555e-03 3.14122633e-03 3.31003961e-03\n",
      " 4.39903584e-03 1.58348684e-02 4.89621633e-03 3.15385955e-03\n",
      " 9.50871970e-03 3.94218158e-03 3.79743419e-03 3.16096653e-03\n",
      " 4.75491742e-03 6.20122828e-03 1.01626029e-02]\n",
      "\n"
     ]
    }
   ],
   "source": [
    "#stats\n",
    "print(\"feature stats:\\n\")\n",
    "print(f\"min: {np.min(netflix_features, axis = 0)}\\n\")\n",
    "print(f\"max: {np.max(netflix_features, axis = 0)}\\n\")\n",
    "print(f\"mean: {np.mean(netflix_features, axis = 0)}\\n\")\n",
    "print(f\"std: {np.std(netflix_features, axis = 0)}\\n\")"
   ]
  },
  {
   "cell_type": "markdown",
   "metadata": {
    "colab_type": "text",
    "id": "0qFV6q2OCCsK"
   },
   "source": [
    "**Write a brief justification for the features that you have chosen.**"
   ]
  },
  {
   "cell_type": "markdown",
   "metadata": {},
   "source": [
    "The features I chose are able to track timing patterns, since video streaming sends packets in bursts, but if the video quality is bad the timing becomes messy and very irregular, so these features observe and measure the timing patterns to spot any problems or issues. Good video streams have steady data flow, while poor quality streams have uneven flow, so my features can detect these differences in how data moves. The features are also able to see different video issues, like if a video freezes (unusual gaps between packets), a difference in quality (there would be different patterns in the data flow), and buffering (abnormal timing)."
   ]
  },
  {
   "cell_type": "markdown",
   "metadata": {},
   "source": []
  },
  {
   "cell_type": "markdown",
   "metadata": {
    "colab_type": "text",
    "id": "lBCP_2SBC2xj"
   },
   "source": [
    "### Inferring Segment downloads\n",
    "\n",
    "In addition to the features that you could generate using the `netml` library or similar, add to your feature vector a \"segment downloads rate\" feature, which indicates the number of video segments downloaded for a given time window.\n",
    "\n",
    "Note: If you are using the `netml` library, generating features with `SAMP` style options may be useful, as this option gives you time windows, and you can then simply add the segment download rate to that existing dataframe."
   ]
  },
  {
   "cell_type": "code",
   "execution_count": null,
   "metadata": {},
   "outputs": [
    {
     "name": "stdout",
     "output_type": "stream",
     "text": [
      "[0, 0, 0, 0, 0, 0, 0, 0, 0, 0, 0, 2, 1, 1, 1, 2, 0, 0, 2, 2, 3, 3, 3, 3, 2, 2, 4, 4, 3, 3, 3, 3, 2, 2, 3, 3, 1, 1, 0, 0, 2, 0, 0, 0, 0, 0, 0, 1, 1, 3, 2]\n"
     ]
    }
   ],
   "source": [
    "\"\"\"\n",
    "Segment definition:\n",
    " For the “segment downloads rate” feature, you can define a segment as a burst of packets separated by at least a 1-second gap.\n",
    " The number of such segments within a given time window can then be used as your “segment downloads rate” feature, e.g., x segments/second\n",
    "\n",
    " um 10 second widows??\n",
    "\"\"\"\n",
    "\n",
    "sorted_packets = sorted(netflix_packets, key = lambda x: x.time)\n",
    "start = sorted_packets[0].time\n",
    "\n",
    "segments = []\n",
    "seg_in_curr = 0\n",
    "in_burst = False\n",
    "\n",
    "for i, packet in enumerate(sorted_packets):\n",
    "    idx = int((packet.time - start) / 10)\n",
    "\n",
    "    if idx >= len(segments):\n",
    "        if len(segments) > 0:\n",
    "            segments.append(seg_in_curr)\n",
    "        else:\n",
    "            segments.append(0)\n",
    "\n",
    "        seg_in_curr = 0\n",
    "\n",
    "    if i > 0:\n",
    "        gap = packet.time - sorted_packets[i - 1].time\n",
    "\n",
    "        if gap > 1:\n",
    "            if in_burst:\n",
    "                seg_in_curr += 1\n",
    "                in_burst = False\n",
    "            else:\n",
    "                in_burst = True\n",
    "        else:\n",
    "            in_burst = True\n",
    "\n",
    "if in_burst:\n",
    "    seg_in_curr += 1\n",
    "\n",
    "if (seg_in_curr > 0) or (len(segments) == 0):\n",
    "    segments.append(seg_in_curr)\n",
    "\n",
    "print(segments)"
   ]
  },
  {
   "cell_type": "code",
   "execution_count": 12,
   "metadata": {},
   "outputs": [
    {
     "ename": "AttributeError",
     "evalue": "'tuple' object has no attribute 'time'",
     "output_type": "error",
     "traceback": [
      "\u001b[0;31m---------------------------------------------------------------------------\u001b[0m",
      "\u001b[0;31mAttributeError\u001b[0m                            Traceback (most recent call last)",
      "Cell \u001b[0;32mIn[12], line 16\u001b[0m\n\u001b[1;32m     11\u001b[0m \u001b[38;5;250m\u001b[39m\u001b[38;5;124;03m\"\"\"\u001b[39;00m\n\u001b[1;32m     12\u001b[0m \u001b[38;5;124;03mflow_start = flow[0].time\u001b[39;00m\n\u001b[1;32m     13\u001b[0m \u001b[38;5;124;03midx = int((flow_start - start) / size)\u001b[39;00m\n\u001b[1;32m     14\u001b[0m \u001b[38;5;124;03m\"\"\"\u001b[39;00m\n\u001b[1;32m     15\u001b[0m first \u001b[38;5;241m=\u001b[39m flow[\u001b[38;5;241m0\u001b[39m]\n\u001b[0;32m---> 16\u001b[0m flow_start \u001b[38;5;241m=\u001b[39m first\u001b[38;5;241m.\u001b[39mtime\n\u001b[1;32m     17\u001b[0m idx \u001b[38;5;241m=\u001b[39m \u001b[38;5;28mint\u001b[39m((flow_start \u001b[38;5;241m-\u001b[39m start) \u001b[38;5;241m/\u001b[39m size)\n\u001b[1;32m     19\u001b[0m \u001b[38;5;28;01mif\u001b[39;00m idx \u001b[38;5;241m<\u001b[39m \u001b[38;5;28mlen\u001b[39m(segments):\n",
      "\u001b[0;31mAttributeError\u001b[0m: 'tuple' object has no attribute 'time'"
     ]
    }
   ],
   "source": [
    "#um time windows?\n",
    "start = sorted_packets[0].time\n",
    "size = 10\n",
    "better_features = []\n",
    "#segments / secod\n",
    "\n",
    "for i, flow in enumerate(netflix_pcap.flows):\n",
    "    if not flow:\n",
    "        continue\n",
    "\n",
    "    \"\"\"\n",
    "    flow_start = flow[0].time\n",
    "    idx = int((flow_start - start) / size)\n",
    "    \"\"\"\n",
    "    first = flow[0]\n",
    "    flow_start = first.time\n",
    "    idx = int((flow_start - start) / size)\n",
    "\n",
    "    if idx < len(segments):\n",
    "        rate = segments[idx]\n",
    "    else:\n",
    "        rate = 0\n",
    "\n",
    "    original = netflix_pcap.features[i]\n",
    "    temp = np.append(original, rate)\n",
    "    better_features.append(temp)\n",
    "\n",
    "print(better_features)"
   ]
  },
  {
   "cell_type": "markdown",
   "metadata": {},
   "source": [
    "## Part 2: Video Quality Inference\n",
    "\n",
    "You will now load the complete video dataset from a previous study to train and test models based on these features to automatically infer the quality of a streaming video flow.\n",
    "\n",
    "For this part of the assignment, you will need two pickle files, which we provide for you by running the code below:\n",
    "\n",
    "```\n",
    "\n",
    "!gdown 'https://drive.google.com/uc?id=1N-Cf4dJ3fpak_AWgO05Fopq_XPYLVqdS' -O netflix_session.pkl\n",
    "!gdown 'https://drive.google.com/uc?id=1PHvEID7My6VZXZveCpQYy3lMo9RvMNTI' -O video_dataset.pkl\n",
    "\n",
    "```"
   ]
  },
  {
   "cell_type": "markdown",
   "metadata": {},
   "source": [
    "### Load the File\n",
    "\n",
    "Load the video dataset pickle file."
   ]
  },
  {
   "cell_type": "code",
   "execution_count": null,
   "metadata": {},
   "outputs": [],
   "source": []
  },
  {
   "cell_type": "markdown",
   "metadata": {},
   "source": [
    "### Clean the File\n",
    "\n",
    "1. The dataset contains video resolutions that are not valid. Remove entries in the dataset that do not contain a valid video resolution. Valid resolutions are 240, 360, 480, 720, 1080."
   ]
  },
  {
   "cell_type": "code",
   "execution_count": null,
   "metadata": {},
   "outputs": [],
   "source": []
  },
  {
   "cell_type": "markdown",
   "metadata": {},
   "source": [
    "2. The file also contains columns that are unnecessary (in fact, unhelpful!) for performing predictions. Identify those columns, and remove them."
   ]
  },
  {
   "cell_type": "code",
   "execution_count": null,
   "metadata": {},
   "outputs": [],
   "source": []
  },
  {
   "cell_type": "markdown",
   "metadata": {},
   "source": [
    "**Briefly explain why you removed those columns.**"
   ]
  },
  {
   "cell_type": "markdown",
   "metadata": {},
   "source": []
  },
  {
   "cell_type": "markdown",
   "metadata": {},
   "source": [
    "### Prepare Your Data\n",
    "\n",
    "Prepare your data matrix, determine your features and labels, and perform a train-test split on your data."
   ]
  },
  {
   "cell_type": "code",
   "execution_count": null,
   "metadata": {},
   "outputs": [],
   "source": []
  },
  {
   "cell_type": "markdown",
   "metadata": {},
   "source": [
    "### Train and Tune Your Model\n",
    "\n",
    "1. Select a model of your choice.\n",
    "2. Train the model using your training data."
   ]
  },
  {
   "cell_type": "code",
   "execution_count": null,
   "metadata": {},
   "outputs": [],
   "source": []
  },
  {
   "cell_type": "markdown",
   "metadata": {},
   "source": [
    "### Tune Your Model\n",
    "\n",
    "Perform hyperparameter tuning to find optimal parameters for your model."
   ]
  },
  {
   "cell_type": "code",
   "execution_count": null,
   "metadata": {},
   "outputs": [],
   "source": []
  },
  {
   "cell_type": "markdown",
   "metadata": {},
   "source": [
    "### Evaluate Your Model\n",
    "\n",
    "Evaluate your model accuracy according to the following metrics:\n",
    "\n",
    "1. Accuracy\n",
    "2. F1 Score\n",
    "3. Confusion Matrix\n",
    "4. ROC/AUC"
   ]
  },
  {
   "cell_type": "markdown",
   "metadata": {},
   "source": [
    "## Part 3: Predict the Ongoing Resolution of a Real Netflix Session\n",
    "\n",
    "Now that you have your model, it's time to put it in practice!\n",
    "\n",
    "Use a preprocessed Netflix video session to infer **and plot** the resolution at 10-second time intervals."
   ]
  },
  {
   "cell_type": "code",
   "execution_count": null,
   "metadata": {},
   "outputs": [],
   "source": []
  }
 ],
 "metadata": {
  "colab": {
   "authorship_tag": "ABX9TyM0Cd1i3qtplCsVAB9qTjxA",
   "collapsed_sections": [],
   "name": "pcap_processing_solution.ipynb",
   "provenance": []
  },
  "kernelspec": {
   "display_name": "base",
   "language": "python",
   "name": "python3"
  },
  "language_info": {
   "codemirror_mode": {
    "name": "ipython",
    "version": 3
   },
   "file_extension": ".py",
   "mimetype": "text/x-python",
   "name": "python",
   "nbconvert_exporter": "python",
   "pygments_lexer": "ipython3",
   "version": "3.11.4"
  }
 },
 "nbformat": 4,
 "nbformat_minor": 1
}
